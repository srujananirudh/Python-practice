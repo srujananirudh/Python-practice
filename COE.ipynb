{
 "cells": [
  {
   "cell_type": "code",
   "execution_count": 11,
   "id": "27235075-2f8e-4d4e-9010-97ad35d500f2",
   "metadata": {},
   "outputs": [
    {
     "name": "stdin",
     "output_type": "stream",
     "text": [
      "enter Hyderabad\n"
     ]
    },
    {
     "ename": "NameError",
     "evalue": "name 'count_values' is not defined",
     "output_type": "error",
     "traceback": [
      "\u001b[1;31m---------------------------------------------------------------------------\u001b[0m",
      "\u001b[1;31mNameError\u001b[0m                                 Traceback (most recent call last)",
      "Cell \u001b[1;32mIn[11], line 12\u001b[0m\n\u001b[0;32m      8\u001b[0m     \u001b[38;5;28;01mreturn\u001b[39;00m count\n\u001b[0;32m     11\u001b[0m word\u001b[38;5;241m=\u001b[39m\u001b[38;5;28minput\u001b[39m(\u001b[38;5;124m\"\u001b[39m\u001b[38;5;124menter\u001b[39m\u001b[38;5;124m\"\u001b[39m)\n\u001b[1;32m---> 12\u001b[0m \u001b[38;5;28mprint\u001b[39m(\u001b[38;5;124m\"\u001b[39m\u001b[38;5;124mno of vowels\u001b[39m\u001b[38;5;124m\"\u001b[39m,count_values(word))\n",
      "\u001b[1;31mNameError\u001b[0m: name 'count_values' is not defined"
     ]
    }
   ],
   "source": [
    "def count_value(n):\n",
    "    n=input()\n",
    "    a=n.lower()\n",
    "    count=0\n",
    "    for i in range(0,len(a)):\n",
    "        if[a] in \"aeiou\":\n",
    "            count+=1\n",
    "    return count\n",
    "\n",
    "\n",
    "word=input(\"enter\")\n",
    "print(\"no of vowels\",count_values(word))"
   ]
  },
  {
   "cell_type": "code",
   "execution_count": 11,
   "id": "db09e1dd-ccad-4c6e-ad40-e5fe9743b698",
   "metadata": {
    "scrolled": true
   },
   "outputs": [
    {
     "name": "stdout",
     "output_type": "stream",
     "text": [
      "3\n"
     ]
    }
   ],
   "source": [
    "#vount vowels in string\n",
    "x='India'\n",
    "vowels='aeiou'\n",
    "c=0\n",
    "for i in x:\n",
    "    if i.lower() in vowels:\n",
    "        c+=1\n",
    "print(c)"
   ]
  },
  {
   "cell_type": "code",
   "execution_count": 23,
   "id": "c8a558da-e5a7-4398-96ea-8522676bdc91",
   "metadata": {},
   "outputs": [
    {
     "name": "stdout",
     "output_type": "stream",
     "text": [
      "[25, 42, 56, 40, 30]\n"
     ]
    }
   ],
   "source": [
    "#D\n",
    "l=[30,42,56,45,35]\n",
    "r=[item-5 if item %5==0 else item for item in l]\n",
    "print(r)\n",
    "\n"
   ]
  },
  {
   "cell_type": "code",
   "execution_count": 14,
   "id": "d50c527b-a26b-453a-81d3-d00ac30a8c96",
   "metadata": {},
   "outputs": [
    {
     "name": "stdout",
     "output_type": "stream",
     "text": [
      "[23, 45, 99, 20]\n",
      "[24, 67, 54]\n"
     ]
    }
   ],
   "source": [
    "#sort by there index\n",
    "def sort_even_odd_index(a):\n",
    "    odd_list = []\n",
    "    even_list = []\n",
    "    for i in range(len(a)):\n",
    "        if i %2 == 0:\n",
    "            even_list.append(a[i])\n",
    "        else:\n",
    "            odd_list.append(a[i])\n",
    "    return even_list,odd_list\n",
    "\n",
    "a = [23,24,45,67,99,54,20]\n",
    "even_list,odd_list = sort_even_odd_index(a)\n",
    "print(even_list)\n",
    "print(odd_list)"
   ]
  },
  {
   "cell_type": "code",
   "execution_count": 1,
   "id": "69f33b6a-6a14-45c7-b804-8796c93ffa55",
   "metadata": {},
   "outputs": [
    {
     "name": "stdout",
     "output_type": "stream",
     "text": [
      "235\n",
      "225\n"
     ]
    }
   ],
   "source": [
    "l = [20, 35, 45, 30, 60, 75, 85, 45, 25, 40]\n",
    "o_list = []\n",
    "e_list = []\n",
    "\n",
    "for i in range(len(l)):\n",
    "    if i % 2 == 0:\n",
    "        e_list.append(l[i])\n",
    "    else:\n",
    "        o_list.append(l[i])\n",
    "\n",
    "print(sum(e_list))   \n",
    "print(sum(o_list))   \n"
   ]
  },
  {
   "cell_type": "code",
   "execution_count": 3,
   "id": "eff7a2d5-2047-4a4d-a0eb-69e5606349c2",
   "metadata": {},
   "outputs": [
    {
     "name": "stdout",
     "output_type": "stream",
     "text": [
      "16\n",
      "29\n"
     ]
    }
   ],
   "source": [
    "l = [20, 35, 45, 30, 60, 75, 85, 45, 25, 40]\n",
    "sum_even=0\n",
    "sum_odd=0\n",
    "for i in range(len(l)):\n",
    "    if l[i] %2==0:\n",
    "        sum_even +=i\n",
    "    else:\n",
    "        sum_odd +=i\n",
    "print(sum_even)\n",
    "print(sum_odd)"
   ]
  },
  {
   "cell_type": "code",
   "execution_count": 10,
   "id": "99aa0b65-d5b8-4689-930d-2f352201c782",
   "metadata": {},
   "outputs": [
    {
     "name": "stdout",
     "output_type": "stream",
     "text": [
      "['delhi', 'Dubai', 'Dasnish', 'dog', 'Dellas']\n"
     ]
    }
   ],
   "source": [
    "l=['mumbai','hyd','delhi','Dubai','Jaipur','kolkata','Chennai','Dasnish','dog','joker','kitkat','chocolet','Dellas']\n",
    "d=[]\n",
    "for i in range(len(l)):\n",
    "    if(l[i][0]==\"D\" or l[i][0]=='d'):\n",
    "        d.append(l[i])\n",
    "print(d)\n"
   ]
  },
  {
   "cell_type": "code",
   "execution_count": 3,
   "id": "42c2eba8-c0f4-4041-8d33-46eec4be3373",
   "metadata": {},
   "outputs": [
    {
     "name": "stdout",
     "output_type": "stream",
     "text": [
      "{'mumbai': 20, 'hyd': 35, 'delhi': 45, 'Dubai': 30, 'Jaipur': 60, 'kolkata': 75, 'Chennai': 85, 'Dasnish': 45, 'dog': 25, 'joker': 40, 'kitkat': 14, 'chocolet': 15}\n"
     ]
    }
   ],
   "source": [
    "l = ['mumbai','hyd','delhi','Dubai','Jaipur','kolkata','Chennai','Dasnish','dog','joker','kitkat','chocolet','Dellas']\n",
    "l1 = [20, 35, 45, 30, 60, 75, 85, 45, 25, 40, 14, 15]\n",
    "l3 = {}\n",
    "for i in range(len(l1)):   \n",
    "    l3[l[i]] = l1[i]       \n",
    "print(l3)"
   ]
  },
  {
   "cell_type": "code",
   "execution_count": 5,
   "id": "a04ac63a-76b2-4a44-9801-6c31863afc6b",
   "metadata": {},
   "outputs": [
    {
     "name": "stdout",
     "output_type": "stream",
     "text": [
      "{'mumbai': 20, 'hyd': 35, 'delhi': 45, 'Dubai': 30, 'Jaipur': 60, 'kolkata': 75, 'Chennai': 85, 'Dasnish': 45, 'dog': 25, 'joker': 40, 'kitkat': 14, 'chocolet': 15}\n"
     ]
    }
   ],
   "source": [
    "keys = ['mumbai','hyd','delhi','Dubai','Jaipur','kolkata','Chennai','Dasnish','dog','joker','kitkat','chocolet','Dellas']\n",
    "values = [20, 35, 45, 30, 60, 75, 85, 45, 25, 40, 14, 15]\n",
    "l = {}  \n",
    "for i in range(len(values)): \n",
    "    l[keys[i]] = values[i]\n",
    "f = {}   \n",
    "for key, value in l.items():\n",
    "    if value < 100:\n",
    "        f[key] = value\n",
    "print(f)\n"
   ]
  },
  {
   "cell_type": "code",
   "execution_count": 7,
   "id": "b4189780-2b41-4790-8cdc-78c509024cf4",
   "metadata": {},
   "outputs": [],
   "source": [
    "s={'mumbai': 20, 'hyd': 35, 'delhi': 45, 'Dubai': 30, 'Jaipur': 60, 'kolkata': 75, 'Chennai': 85, 'Dasnish': 45, 'dog': 25, 'joker': 40, 'kitkat': 14, 'chocolet': 15}\n",
    "def city_le(s):\n",
    "    l=[]\n",
    "    for i in s:\n",
    "        if s[i]<100:\n",
    "            l.append(i)\n",
    "        return l\n",
    "            "
   ]
  },
  {
   "cell_type": "code",
   "execution_count": 13,
   "id": "45f0ee09-dcaa-4673-9394-f9ff92ce7e6a",
   "metadata": {},
   "outputs": [
    {
     "data": {
      "text/plain": [
       "4"
      ]
     },
     "execution_count": 13,
     "metadata": {},
     "output_type": "execute_result"
    }
   ],
   "source": [
    "def count_vowels(text):\n",
    "    vowels = \"aeiouAEIOU\"\n",
    "    count =0\n",
    "    for char in text:\n",
    "        if char  not in vowels:\n",
    "            count +=1\n",
    "    return count\n",
    "count_vowels(\"srujan\")"
   ]
  },
  {
   "cell_type": "code",
   "execution_count": 15,
   "id": "57de1e8c-f28e-4666-9163-f504b3737f2f",
   "metadata": {},
   "outputs": [
    {
     "name": "stdout",
     "output_type": "stream",
     "text": [
      "150\n",
      "310\n"
     ]
    }
   ],
   "source": [
    "def sum_odd_even(a):\n",
    "    sum_even = 0\n",
    "    sum_odd = 0\n",
    "    for i in a:\n",
    "        if i %2 == 0:\n",
    "            sum_even += i\n",
    "        else:\n",
    "            sum_odd += i\n",
    "    return sum_even,sum_odd\n",
    "        \n",
    "a = [20,35,45,30,60,75,85,45,25,40]\n",
    "sum_even,sum_odd = sum_odd_even(a)\n",
    "print(sum_even)\n",
    "print(sum_odd)"
   ]
  },
  {
   "cell_type": "code",
   "execution_count": 16,
   "id": "81d2ae63-6aae-40ff-aa44-46154e8728b3",
   "metadata": {},
   "outputs": [
    {
     "name": "stdout",
     "output_type": "stream",
     "text": [
      "16\n",
      "29\n"
     ]
    }
   ],
   "source": [
    "#add the even number indexs and odd number indexes \n",
    "def even_odd_index(a):\n",
    "    sum_even = 0\n",
    "    sum_odd = 0\n",
    "    for i in range(len(a)):\n",
    "        if a[i] %2 == 0:\n",
    "            sum_even += i\n",
    "        else:\n",
    "            sum_odd += i\n",
    "    return sum_even,sum_odd\n",
    "a = [20,35,45,30,60,75,85,45,25,40]\n",
    "sum_even,sum_odd = even_odd_index(a)\n",
    "print(sum_even)\n",
    "print(sum_odd)"
   ]
  },
  {
   "cell_type": "code",
   "execution_count": null,
   "id": "86823ceb-7925-4429-9922-186b4eadbb00",
   "metadata": {},
   "outputs": [],
   "source": []
  }
 ],
 "metadata": {
  "kernelspec": {
   "display_name": "Python [conda env:base] *",
   "language": "python",
   "name": "conda-base-py"
  },
  "language_info": {
   "codemirror_mode": {
    "name": "ipython",
    "version": 3
   },
   "file_extension": ".py",
   "mimetype": "text/x-python",
   "name": "python",
   "nbconvert_exporter": "python",
   "pygments_lexer": "ipython3",
   "version": "3.13.5"
  }
 },
 "nbformat": 4,
 "nbformat_minor": 5
}
